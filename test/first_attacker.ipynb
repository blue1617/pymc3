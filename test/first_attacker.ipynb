{
  "cells": [
    {
      "cell_type": "markdown",
      "source": "# Analysing Attacker \n\nThis notebook contains the code required to conduct a Bayesian data analysis on data collected",
      "metadata": {
        "pycharm": {
          "metadata": false
        }
      }
    },
    {
      "cell_type": "markdown",
      "source": "## First attacker",
      "metadata": {
        "pycharm": {
          "metadata": false
        }
      }
    },
    {
      "cell_type": "code",
      "execution_count": 4,
      "outputs": [
        {
          "name": "stderr",
          "text": [
            "Multiprocess sampling (2 chains in 2 jobs)\n",
            "Metropolis: [age]\n",
            "\rSampling 2 chains:   0%|          | 0/30000 [00:00\u003c?, ?draws/s]",
            "\rSampling 2 chains:   1%|▏         | 409/30000 [00:00\u003c00:07, 4089.22draws/s]",
            "\rSampling 2 chains:   4%|▍         | 1149/30000 [00:00\u003c00:06, 4722.90draws/s]",
            "\rSampling 2 chains:   7%|▋         | 1976/30000 [00:00\u003c00:05, 5419.77draws/s]",
            "\rSampling 2 chains:   9%|▉         | 2692/30000 [00:00\u003c00:04, 5844.44draws/s]",
            "\rSampling 2 chains:  11%|█▏        | 3411/30000 [00:00\u003c00:04, 6191.20draws/s]",
            "\rSampling 2 chains:  14%|█▎        | 4065/30000 [00:00\u003c00:04, 6291.53draws/s]",
            "\rSampling 2 chains:  16%|█▌        | 4677/30000 [00:00\u003c00:04, 5920.84draws/s]",
            "\rSampling 2 chains:  18%|█▊        | 5261/30000 [00:00\u003c00:04, 5783.05draws/s]",
            "\rSampling 2 chains:  19%|█▉        | 5835/30000 [00:00\u003c00:04, 5551.54draws/s]",
            "\rSampling 2 chains:  21%|██▏       | 6389/30000 [00:01\u003c00:04, 5470.62draws/s]",
            "\rSampling 2 chains:  23%|██▎       | 6976/30000 [00:01\u003c00:04, 5584.03draws/s]",
            "\rSampling 2 chains:  25%|██▌       | 7535/30000 [00:01\u003c00:04, 5144.83draws/s]",
            "\rSampling 2 chains:  27%|██▋       | 8057/30000 [00:01\u003c00:04, 4988.44draws/s]",
            "\rSampling 2 chains:  29%|██▊       | 8562/30000 [00:01\u003c00:04, 4749.58draws/s]",
            "\rSampling 2 chains:  30%|███       | 9044/30000 [00:01\u003c00:04, 4376.74draws/s]",
            "\rSampling 2 chains:  32%|███▏      | 9492/30000 [00:01\u003c00:05, 3771.04draws/s]",
            "\rSampling 2 chains:  33%|███▎      | 9892/30000 [00:01\u003c00:05, 3541.41draws/s]",
            "\rSampling 2 chains:  34%|███▍      | 10265/30000 [00:02\u003c00:05, 3336.14draws/s]",
            "\rSampling 2 chains:  35%|███▌      | 10614/30000 [00:02\u003c00:05, 3304.62draws/s]",
            "\rSampling 2 chains:  37%|███▋      | 10956/30000 [00:02\u003c00:06, 3082.53draws/s]",
            "\rSampling 2 chains:  38%|███▊      | 11275/30000 [00:02\u003c00:06, 2920.15draws/s]",
            "\rSampling 2 chains:  39%|███▊      | 11577/30000 [00:02\u003c00:06, 2761.00draws/s]",
            "\rSampling 2 chains:  40%|███▉      | 11862/30000 [00:02\u003c00:06, 2720.64draws/s]",
            "\rSampling 2 chains:  40%|████      | 12140/30000 [00:02\u003c00:06, 2693.89draws/s]",
            "\rSampling 2 chains:  42%|████▏     | 12521/30000 [00:02\u003c00:05, 2952.43draws/s]",
            "\rSampling 2 chains:  43%|████▎     | 12827/30000 [00:02\u003c00:06, 2824.21draws/s]",
            "\rSampling 2 chains:  44%|████▍     | 13177/30000 [00:03\u003c00:05, 2996.49draws/s]",
            "\rSampling 2 chains:  45%|████▍     | 13486/30000 [00:03\u003c00:05, 2972.30draws/s]",
            "\rSampling 2 chains:  47%|████▋     | 13977/30000 [00:03\u003c00:04, 3370.75draws/s]",
            "\rSampling 2 chains:  48%|████▊     | 14465/30000 [00:03\u003c00:04, 3715.19draws/s]",
            "\rSampling 2 chains:  50%|████▉     | 14880/30000 [00:03\u003c00:03, 3834.37draws/s]",
            "\rSampling 2 chains:  51%|█████▏    | 15416/30000 [00:03\u003c00:03, 4184.70draws/s]",
            "\rSampling 2 chains:  53%|█████▎    | 15890/30000 [00:03\u003c00:03, 4335.17draws/s]",
            "\rSampling 2 chains:  54%|█████▍    | 16342/30000 [00:03\u003c00:03, 4341.48draws/s]",
            "\rSampling 2 chains:  56%|█████▌    | 16789/30000 [00:03\u003c00:03, 3980.96draws/s]",
            "\rSampling 2 chains:  57%|█████▋    | 17202/30000 [00:04\u003c00:03, 3806.28draws/s]",
            "\rSampling 2 chains:  59%|█████▊    | 17601/30000 [00:04\u003c00:03, 3859.06draws/s]",
            "\rSampling 2 chains:  61%|██████    | 18152/30000 [00:04\u003c00:02, 4239.55draws/s]",
            "\rSampling 2 chains:  62%|██████▏   | 18677/30000 [00:04\u003c00:02, 4499.22draws/s]",
            "\rSampling 2 chains:  64%|██████▍   | 19150/30000 [00:04\u003c00:02, 4564.01draws/s]",
            "\rSampling 2 chains:  65%|██████▌   | 19619/30000 [00:04\u003c00:02, 4060.52draws/s]",
            "\rSampling 2 chains:  67%|██████▋   | 20044/30000 [00:04\u003c00:02, 3430.54draws/s]",
            "\rSampling 2 chains:  68%|██████▊   | 20417/30000 [00:04\u003c00:03, 2886.70draws/s]",
            "\rSampling 2 chains:  69%|██████▉   | 20742/30000 [00:05\u003c00:03, 2580.28draws/s]",
            "\rSampling 2 chains:  70%|███████   | 21031/30000 [00:05\u003c00:03, 2556.17draws/s]",
            "\rSampling 2 chains:  71%|███████   | 21309/30000 [00:05\u003c00:03, 2361.20draws/s]",
            "\rSampling 2 chains:  72%|███████▏  | 21564/30000 [00:05\u003c00:03, 2252.73draws/s]",
            "\rSampling 2 chains:  73%|███████▎  | 21825/30000 [00:05\u003c00:03, 2348.64draws/s]",
            "\rSampling 2 chains:  74%|███████▎  | 22071/30000 [00:05\u003c00:03, 2183.06draws/s]",
            "\rSampling 2 chains:  74%|███████▍  | 22328/30000 [00:05\u003c00:03, 2285.09draws/s]",
            "\rSampling 2 chains:  75%|███████▌  | 22565/30000 [00:05\u003c00:03, 2235.39draws/s]",
            "\rSampling 2 chains:  76%|███████▌  | 22796/30000 [00:05\u003c00:03, 2249.04draws/s]",
            "\rSampling 2 chains:  77%|███████▋  | 23063/30000 [00:06\u003c00:02, 2358.02draws/s]",
            "\rSampling 2 chains:  78%|███████▊  | 23315/30000 [00:06\u003c00:02, 2402.92draws/s]",
            "\rSampling 2 chains:  79%|███████▊  | 23609/30000 [00:06\u003c00:02, 2542.01draws/s]",
            "\rSampling 2 chains:  80%|███████▉  | 23923/30000 [00:06\u003c00:02, 2695.69draws/s]",
            "\rSampling 2 chains:  81%|████████  | 24199/30000 [00:06\u003c00:02, 2683.46draws/s]",
            "\rSampling 2 chains:  82%|████████▏ | 24521/30000 [00:06\u003c00:01, 2824.65draws/s]",
            "\rSampling 2 chains:  83%|████████▎ | 24809/30000 [00:06\u003c00:01, 2637.89draws/s]",
            "\rSampling 2 chains:  84%|████████▎ | 25115/30000 [00:06\u003c00:01, 2750.78draws/s]",
            "\rSampling 2 chains:  85%|████████▍ | 25396/30000 [00:06\u003c00:01, 2741.52draws/s]",
            "\rSampling 2 chains:  86%|████████▌ | 25674/30000 [00:07\u003c00:01, 2551.25draws/s]",
            "\rSampling 2 chains:  86%|████████▋ | 25935/30000 [00:07\u003c00:01, 2466.06draws/s]",
            "\rSampling 2 chains:  88%|████████▊ | 26286/30000 [00:07\u003c00:01, 2706.76draws/s]",
            "\rSampling 2 chains:  89%|████████▊ | 26567/30000 [00:07\u003c00:01, 2631.63draws/s]",
            "\rSampling 2 chains:  89%|████████▉ | 26846/30000 [00:07\u003c00:01, 2676.54draws/s]",
            "\rSampling 2 chains:  90%|█████████ | 27120/30000 [00:07\u003c00:01, 2685.62draws/s]",
            "\rSampling 2 chains:  91%|█████████▏| 27393/30000 [00:07\u003c00:00, 2643.11draws/s]",
            "\rSampling 2 chains:  92%|█████████▏| 27661/30000 [00:07\u003c00:00, 2499.93draws/s]",
            "\rSampling 2 chains:  93%|█████████▎| 27915/30000 [00:07\u003c00:00, 2395.70draws/s]",
            "\rSampling 2 chains:  94%|█████████▍| 28243/30000 [00:08\u003c00:00, 2606.26draws/s]",
            "\rSampling 2 chains:  95%|█████████▌| 28539/30000 [00:08\u003c00:00, 2702.56draws/s]",
            "\rSampling 2 chains:  96%|█████████▌| 28816/30000 [00:08\u003c00:00, 2689.48draws/s]",
            "\rSampling 2 chains:  97%|█████████▋| 29115/30000 [00:08\u003c00:00, 2772.78draws/s]",
            "\rSampling 2 chains:  98%|█████████▊| 29411/30000 [00:08\u003c00:00, 2825.00draws/s]",
            "\rSampling 2 chains:  99%|█████████▉| 29697/30000 [00:08\u003c00:00, 2631.56draws/s]",
            "\rSampling 2 chains: 100%|█████████▉| 29965/30000 [00:08\u003c00:00, 2598.53draws/s]",
            "\rSampling 2 chains: 100%|██████████| 30000/30000 [00:08\u003c00:00, 3452.58draws/s]",
            "\nThe number of effective samples is smaller than 25% for some parameters.\n"
          ],
          "output_type": "stream"
        },
        {
          "name": "stdout",
          "text": [
            "found Tom\n"
          ],
          "output_type": "stream"
        },
        {
          "data": {
            "text/plain": "\u003cFigure size 900x720 with 2 Axes\u003e",
            "image/png": "iVBORw0KGgoAAAANSUhEUgAAAuYAAAGdCAYAAABelLbMAAAABHNCSVQICAgIfAhkiAAAAAlwSFlzAAALEgAACxIB0t1+/AAAADl0RVh0U29mdHdhcmUAbWF0cGxvdGxpYiB2ZXJzaW9uIDMuMC4zLCBodHRwOi8vbWF0cGxvdGxpYi5vcmcvnQurowAAIABJREFUeJzt3Xu4HWV99//3BwhGAVFJqELCQQlCCBLoNqAoolgfopa0Si08UKSgeCj+bLVUrDweqFYtT0VtQaUFUUEBUWl+GEWKWEUFSThJoGgagwSoIKeKFAH5Pn+siV1s92HtZO29h73fr+vKxZqZe2a+617DWp99r5lZqSokSZIkTa6NJrsASZIkSQZzSZIkqRUM5pIkSVILGMwlSZKkFjCYS3rcS3J/kmeO07b3T7K2a3plkv37tO3Dknyja7qS7NSPbTfbG7d+WR9J3pTkZ01dW/XQ/sgkl01EbWM1luNgpNe1zc9R0sQzmEvqWZI1Sf67CVY/S3Jmks03YHs7NKFlkw2pq6o2r6rVG7KNMexrt6r61khten1eVXV2Vb2sH3Ul+VaS1w3a/oT1y2iSzAA+ArysqeuuQcv7cixMlF6OA0kaK4O5pLH6/araHNgLGABOmKxCNjTETWYIfLwE0D76HWAmsHKyC9kQ0/B1kzSBDOaS1ktV3Qp8DVgAkGSbJEuT3J1kVZLXr2ubZFGS5Un+qxlp/0iz6NvNf+9tRuGf17Q/KsmNSe5JclGS7bu2VUn+LMmPgR93zdupebxlks8muTPJzUlOSLJRs+zIJN9NcnKSu4D3Dn5eSZ7YfBNwT5IbgOcOWr4myUvH+ryG2vcwpzG8PMnqJD9PclJX7e9NclZXHb8ZYU7yAeCFwD82+/vH9eiXy5L83+Z5/yTJ4q59HdnU9Itm2WFDHRNJnpDko0lua/59tJm3M3BTV598c4jVhzwWmu0OV9eWSU5PcnuSW5O8P8nGQ9S1TfNNz9O65u3Z9PGMJM9K8s0kdzXzzk7ylK62a5K8I8l1wC+bPh98HHw/yb1NLf+YZNNeXtchat0lycXp/H90U5LXDNVO0tRkMJe0XpLMBV4OXN3MOgdYC2wDHAz8bZKXNMs+Bnysqp4MPAs4r5m/X/PfpzSnN3w/yRLgr4FXAbOB7wBfGLT7PwD2BuYPUdo/AFsCzwReBBwB/GnX8r2B1XRGcD8wxPrvaWp8FvC/gNcO3wu9P68e9w3wh3S+idgLWAIcNcL+Aaiqd9Hpp2Ob/R07RLNe+uUmYBbwd8Dp6dgM+DiwuKq2AJ4PXDNMKe8C9gEWAnsAi4ATqupHwG5Nm6dU1UuGWHekPvutupplZwKPADsBewIvAx5zOg9AVd0GfB94ddfs/w2cX1UPAwE+SOfY3RWYy2//0XYo8IqmvkcGLfs18BdNjc8DDgDePKjNqK9r09cXA58HtgYOAU5NMtRxLmkKMphLGqsLktwLXAb8G50APhfYF3hHVT1YVdcA/0wn/AE8DOyUZFZV3V9Vl4+w/TcCH6yqG5sA9LfAwnSNmjfL766q/+5esRktPQR4Z1X9oqrWAH8P/ElXs9uq6h+q6pHB6zdeA3yg2f4tdELpcMbyvHrZN8CHm33/FPgonUC4QXrsl5ur6p+q6tfAZ4Bn0PkDAuBRYEGSJ1bV7VU13OkohwEnVtUdVXUn8L5B+1gfQ9aV5Hfo/GH451X1y6q6Azi5eZ5D+TxNXzbB/pBmHlW1qqourqpfNXV/hM4fL90+XlW3DPW6VdWKqrq8eV3XAJ8aYv1eXtdXAmuq6tPNtq4GvgT80UgdJGnqMJhLGqs/qKqnVNX2VfXmJqhsA9xdVb/oanczsG3z+GhgZ+Dfk1yZ5JUjbH974GPNaQH3AnfTGdHctqvNLcOsOwuY0ex7qDpGWnedbQa1uXm4hoztefWy78Ftbm7q2VC99Mt/rntQVQ80Dzevql8Cf0znD6bbk3w1yS7D7GebIfaxofUPWRed42RGU9O6Y+VTdEaah/Il4HlJnkFndP5ROt8ykOR3kpzTnA7zX8BZdPqs27CvXZKdk1yY5D+b9f92lPWH65ftgb3XPZ/mOR0GPH24fUuaWgzmkvrhNuBpSbbomrcdcCtAVf24qg6lE5o+DJzffG1fQ2zrFuANTfhf9++JVfW9rjZDrQfwczqj2N2j67+pY5R117mdzqkM3esPaYzPq5d9M8S+b2se/xJ4UteywWFtpG330i/DqqqLqur36IxW/zvwT8M0vW2Ifdw2TNvf2k2P7da5BfgVMKvrOHlyVe02VOOqugf4Bp0/Mv43cE5Vrdvn3zb73705LelwOn8M9lrfJ+j0y7xm/b8eYv3hXtfBz+nfBh37m1fVm0bYt6QpxGAuaYM1p3x8D/hgkplJnkNnNPksgCSHJ5ldVY8C9zarPQrc2fy3+17bnwTemWS3Zt0tk/T0VX5zusN5wAeSbNGc/vK2dXX06Lxm/09NMgd4y3ANx/i8enVcs++5wFuBc5v51wD7JdkuyZbAOwet97Ph9rch/dKMJi9p/uD4FXB/89yG8gXghCSzk8wC3t3LPhpj6rOqup1O0P77JE9OslFzEefgU0i6fZ7O6VUHN4/X2YLO87ovybbAcT3W3L3+fwH3N98mDBWkh3tdu10I7JzkT5qLUmckeW6SXcdYj6THKYO5pH45FNiBzkjgV4D3VNW/NssOBFYmuZ/OBZOHVNV/N6cmfAD4bvPV/T5V9RU6o8/nNKcFXA8spndvoTO6vJrOefCfB84Yw/rvo3OqwU/oBL/PjdC25+c1hv3/C7CCThD/KnA6QFVdTCfMXdcsv3DQeh8DDk7n7iVDnRe/vv2yEZ0Qfxud04pexNDBE+D9wPKmxh8CVzXzRrWefXYEsClwA3APcD6dUf3hLAXmAf9ZVdd2zX8fnYsy76PT51/upeYuf0lnFP4XdL5NGCp0D/m6dmtOBXsZnfPfb6NzGs+HgSeMsR5Jj1P5n2/yJEmSJE0WR8wlSZKkFjCYS5IkSS1gMJckSZJawGAuSZIktYDBXJIkSWoBg7kkSZLUAgZzSZIkqQUM5pI0xSXZOsnSJD9L8osk/3+SJzfLNkry7iR3JbktyaFJHkry1K71X5/khiT3Jflakq0n79lI0tRlMJekqe/JwD8A2wHbA7OANzTL3gu8FHgOMB/4c+BnVXUPQJK/Bt4IHATMBm6lx1/zlCSNzSaTXYAkaXxV1SpgVTP5qyQXA09NMptOEN+rqm4FSPJ14LnN462BdwF7NtsgyenAqRP8FCRpWjCYS9IUl+SP6ATwecCmwJOAY4ADgOvWhe7G04AfNo8PAJ4A/CDJbzYHXD0BZUvStOOpLJI0hSV5CfBhOsF8GzqnsdwBXNM8vrer7cbAYuC6ZtbTgK9U1VO6/m1ZVftP4FOQpGnDYC5JU9sewC3AtcBTgTOArYEbgBuBfZPs1FwM+nHgWfzPiPlVwIuT7AWQ5MlJlqRr+FyS1D8Gc0ma2s4GZgB3AxcCPwZuqKqHquoS4At0Tk1ZTmcU/QHg3wGq6vvAicCXktxPJ8wfWFU14c9CkqaB+P4qSQJI8kbgFVX1+5NdiyRNR178KUnTVJJ9gNvpnOpyAJ3RcUO5JE0Sg7kkTV97Al+lc6rLj4Ajq+qKyS1JkqavUU9lSXIG8ErgjqpaMMTyAB8DXk7n3MQjq+qqcahVkiRJmrJ6ufjzTODAEZYvpnNv3Hl07ov7iQ0vS5IkSZpeRg3mVfVtOlfzD2cJ8NnquBx4SpJn9KtASZIkaTrox+0St6Vz4dA6a5t5kiRJkno0oRd/JjmGzukubLbZZr+7yy67TOTuJUmSpHG3YsWKn1fV7LGu149gfiswt2t6TjPvt1TVacBpAAMDA7V8+fI+7F6SJElqjyQ3r896/TiVZSlwRDr2Ae6rqtv7sF1JkiRp2hh1xDzJF4D9gVlJ1gLvoXPPW6rqk8AyOrdKXEXndol/Ol7FSpIkSVPVqMG8qg4dZXkBf9a3iiRJkqRpqFW//Pnwww+zdu1aHnzwwckuRX02c+ZM5syZw4wZMya7FEmSpFZqVTBfu3YtW2yxBTvssAOdHxTVVFBV3HXXXaxdu5Ydd9xxssuRJElqpX5c/Nk3Dz74IFtttZWhfIpJwlZbbeU3IZIkSSNoVTAHDOVTlK+rJEnSyFoXzCVJkqTpyGAuSZIktYDBfBzce++9nHrqqeu17vOf//w+V/M/Pv7xj7Prrrty2GGHjds+JEmStH5adVeWwS5csLiv23vl9V/r6/aGsy6Yv/nNb+55naqiqvje97435nU22qi3v69OPfVU/vVf/5U5c+b0vA9JkiRNDEfMB1mzZg277LILhx12GLvuuisHH3wwDzzwAAAf+chHWLBgAQsWLOCjH/0oAL/85S95xStewR577MGCBQs499xzOf744/mP//gPFi5cyHHHHQfAWWedxaJFi1i4cCFveMMb+PWvf82aNWt49rOfzRFHHMGCBQu45ZZb2HzzzX9Ty1D7G2qdwYZa741vfCOrV69m8eLFnHzyySP2wfnnn88+++zDHnvswQte8ALuvPNOAG688Ub2228/nvOc53DSSSex0047AfCTn/yEJUuWMDAwwKJFi7jppps25CWQJEmallo9Yj5ZbrrpJk4//XT23XdfjjrqKE499VRe/OIX8+lPf5orrriCqmLvvffmRS96EatXr2abbbbhq1/9KgD33Xcfe++9N9dffz3XXHMN0Am05557Lt/97neZMWMGb37zmzn77LPZb7/9+PGPf8xnPvMZ9tlnn8fUsGLFiiH399SnPnXYdUZa75Of/CRf//rXufTSS5k1a9aIz//FL34xBx98MADve9/7OO+883jDG97AYYcdxumnn86ee+7Jm970JhYsWMDDDz/M6173Ok477TSe9axnsWzZMj70oQ/x6U9/uh8vhSRJ0rThiPkQ5s6dy7777gvA4YcfzmWXXcZll13GH/7hH7LZZpux+eab86pXvYrvfOc77L777lx88cW84x3v4Dvf+Q5bbrnlb23vkksuYcWKFTz3uc9l4cKFXHLJJaxevRqA7bfffsiAPdz+RlpntPV6deaZZ7Jo0SL22GMPTj31VGbOnMmXv/xl9thjD/bcc08A5s+fzx577MEFF1zAypUrefWrX83ChQv5q7/6K2bOnDmm/UmSJMkR8yENvuf2SPfg3nnnnbnqqqtYtmwZJ5xwAgcccABHHHHEY9pUFa997Wv54Ac/+Jj5a9asYbPNNhtzfeuzTq8++9nP8oMf/IBvfvObbL755uy3337stttuXHjhhSxcuPA37a6//noOPPBAVqxYwQc+8AGOPvrocatJkiRpOnDEfAg//elP+f73vw/A5z//eV7wghfwwhe+kAsuuIAHHniAX/7yl3zlK1/hhS98IbfddhtPetKTOPzwwznuuOO46qqr2GKLLfjFL37xm+0dcMABnH/++dxxxx0A3H333dx8880j1jDc/kazvuut88Mf/pDnP//5bL755nzpS1/ie9/7HrvvvjtbbbUVP/rRjwC45pprOOuss9hjjz14xjOewUUXXcSjjz76m/Wrquf9SZIkqcMR8yE8+9nP5pRTTuGoo45i/vz5vOlNb+JJT3oSRx55JIsWLQLgda97HXvuuScXXXQRxx13HBtttBEzZszgE5/4BFtttRX77rsvCxYsYPHixZx00km8//3v52UvexmPPvooM2bM4JRTTuHpT3/6sDXstddeQ+5vzZo1I9Y+3Hq9OvLII3nVq17F2Wefzcte9jKe+cxnstlmm/Enf/InvOIVr2D33Xdn//33Z4cdduCZz3wmRx11FJdeeim77rorT3ziE1mwYAFnnXVWz/uTJElSRyZrdHNgYKCWL1/+mHk33ngju+6666TUs86aNWt45StfyfXXXz+pdbTN/fff/5s7xpx00kncd999vP/97x/TNtrw+kqSJI23JCuqamCs63kqi3py8skns9tuu7Fw4ULWrFnD//k//2eyS5IkSZpSHDHXhPH1lSRJ04Ej5pIkSdLjmMFckiRJagGDuSRJktQCrQvm3gN7avJ1lSRJGlmrgvnMmTO56667DHFTTFVx1113MXPmzMkuRZIkqbVa9QNDc+bMYe3atdx5552TXYr6bObMmcyZM2eyy5AkSWqtnoJ5kgOBjwEbA/9cVR8atHw74DPAU5o2x1fVsrEWM2PGDHbcccexriZJkiQ97o16KkuSjYFTgMXAfODQJPMHNTsBOK+q9gQOAU7td6GSJEnSVNbLOeaLgFVVtbqqHgLOAZYMalPAk5vHWwK39a9ESZIkaerr5VSWbYFbuqbXAnsPavNe4BtJ3gJsBry0L9VJkiRJ00S/7spyKHBmVc0BXg58LslvbTvJMUmWJ1nuBZ6SJEnS/+glmN8KzO2antPM63Y0cB5AVX0fmAnMGryhqjqtqgaqamD27NnrV7EkSZI0BfUSzK8E5iXZMcmmdC7uXDqozU+BAwCS7EonmDskLkmSJPVo1GBeVY8AxwIXATfSufvKyiQnJjmoafZ24PVJrgW+ABxZ/kqQJEmS1LOe7mPe3JN82aB57+56fAOwb39LkyRJkqaPfl38KUmSJGkDGMwlSZKkFjCYS5IkSS1gMJckSZJawGAuSZIktYDBXJIkSWoBg7kkSZLUAgZzSZIkqQUM5pIkSVILGMwlSZKkFjCYS5IkSS1gMJckSZJawGAuSZIktYDBXJIkSWoBg7kkSZLUAgZzSZIkqQUM5pIkSVILGMwlSZKkFjCYS5IkSS1gMJckSZJawGAuSZIktYDBXJIkSWoBg7kkSZLUAj0F8yQHJrkpyaokxw/T5jVJbkiyMsnn+1umJEmSNLVtMlqDJBsDpwC/B6wFrkyytKpu6GozD3gnsG9V3ZNk6/EqWJIkSZqKehkxXwSsqqrVVfUQcA6wZFCb1wOnVNU9AFV1R3/LlCRJkqa2XoL5tsAtXdNrm3nddgZ2TvLdJJcnObBfBUqSJEnTwainsoxhO/OA/YE5wLeT7F5V93Y3SnIMcAzAdttt16ddS5IkSY9/vYyY3wrM7Zqe08zrthZYWlUPV9VPgB/RCeqPUVWnVdVAVQ3Mnj17fWuWJEmSppxegvmVwLwkOybZFDgEWDqozQV0RstJMovOqS2r+1inJEmSNKWNGsyr6hHgWOAi4EbgvKpameTEJAc1zS4C7kpyA3ApcFxV3TVeRUuSJElTTapqUnY8MDBQy5cvn5R9S5IkSeMlyYqqGhjrev7ypyRJktQCBnNJkiSpBQzmkiRJUgsYzCVJkqQWMJhLkiRJLWAwlyRJklrAYC5JkiS1gMFckiRJagGDuSRJktQCBnNJkiSpBQzmkiRJUgsYzCVJkqQWMJhLkiRJLWAwlyRJklrAYC5JkiS1gMFckiRJagGDuSRJktQCBnNJkiSpBQzmkiRJUgsYzCVJkqQWMJhLkiRJLWAwlyRJklrAYC5JkiS1QE/BPMmBSW5KsirJ8SO0e3WSSjLQvxIlSZKkqW/UYJ5kY+AUYDEwHzg0yfwh2m0BvBW4ot9FSpIkSVNdLyPmi4BVVbW6qh4CzgGWDNHub4APAw/2sT5JkiRpWuglmG8L3NI1vbaZ9xtJ9gLmVtVX+1ibJEmSNG1s8MWfSTYCPgK8vYe2xyRZnmT5nXfeuaG7liRJkqaMXoL5rcDcruk5zbx1tgAWAN9KsgbYB1g61AWgVXVaVQ1U1cDs2bPXv2pJkiRpiuklmF8JzEuyY5JNgUOApesWVtV9VTWrqnaoqh2Ay4GDqmr5uFQsSZIkTUGjBvOqegQ4FrgIuBE4r6pWJjkxyUHjXaAkSZI0HWzSS6OqWgYsGzTv3cO03X/Dy5IkSZKmF3/5U5IkSWoBg7kkSZLUAgZzSZIkqQUM5pIkSVILGMwlSZKkFjCYS5IkSS1gMJckSZJawGAuSZIktYDBXJIkSWoBg7kkSZLUAgZzSZIkqQUM5pIkSVILGMwlSZKkFjCYS5IkSS1gMJckSZJawGAuSZIktYDBXJIkSWoBg7kkSZLUAgZzSZIkqQUM5pIkSVILGMwlSZKkFjCYS5IkSS1gMJckSZJaoKdgnuTAJDclWZXk+CGWvy3JDUmuS3JJku37X6okSZI0dY0azJNsDJwCLAbmA4cmmT+o2dXAQFU9Bzgf+Lt+FypJkiRNZb2MmC8CVlXV6qp6CDgHWNLdoKouraoHmsnLgTn9LVOSJEma2noJ5tsCt3RNr23mDedo4GsbUpQkSZI03WzSz40lORwYAF40zPJjgGMAtttuu37uWpIkSXpc62XE/FZgbtf0nGbeYyR5KfAu4KCq+tVQG6qq06pqoKoGZs+evT71SpIkSVNSL8H8SmBekh2TbAocAiztbpBkT+BTdEL5Hf0vU5IkSZraRg3mVfUIcCxwEXAjcF5VrUxyYpKDmmYnAZsDX0xyTZKlw2xOkiRJ0hB6Ose8qpYBywbNe3fX45f2uS5JkiRpWvGXPyVJkqQWMJhLkiRJLWAwlyRJklrAYC5JkiS1gMFckiRJagGDuSRJktQCBnNJkiSpBQzmkiRJUgsYzCVJkqQWMJhLkiRJLWAwlyRJklrAYC5JkiS1gMFckiRJagGDuSRJktQCBnNJkiSpBQzmkiRJUgsYzCVJkqQWMJhLkiRJLWAwlyRJklrAYC5JkiS1gMFckiRJagGDuSRJktQCBnNJkiSpBXoK5kkOTHJTklVJjh9i+ROSnNssvyLJDv0uVJIkSZrKNhmtQZKNgVOA3wPWAlcmWVpVN3Q1Oxq4p6p2SnII8GHgj0fa7n0rf8yFCxavf+WSJD3OvPL6r012CZJabNRgDiwCVlXVaoAk5wBLgO5gvgR4b/P4fOAfk6Sqqo+1SpL0uOaAlKSR9HIqy7bALV3Ta5t5Q7apqkeA+4Ct+lGgJEmSNB30MmLeN0mOAY5pJu///ZVfv2ki999Hs4CfT3YR04x9PvHs84lnn088+3zi2ecTzz6feM9en5V6Cea3AnO7puc084ZqszbJJsCWwF2DN1RVpwGnrU+hbZJkeVUNTHYd04l9PvHs84lnn088+3zi2ecTzz6feEmWr896vZzKciUwL8mOSTYFDgGWDmqzFHht8/hg4JueXy5JkiT1btQR86p6JMmxwEXAxsAZVbUyyYnA8qpaCpwOfC7JKuBuOuFdkiRJUo96Ose8qpYBywbNe3fX4weBP+pvaa32uD8d53HIPp949vnEs88nnn0+8ezziWefT7z16vN4xokkSZI0+Xr65U9JkiRJ48tgPoIkZyS5I8n1g+a/Jcm/J1mZ5O8mq76paKg+T7IwyeVJrkmyPMmiyaxxqkkyN8mlSW5ojum3NvOfluTiJD9u/vvUya51qhihz09q3luuS/KVJE+Z7FqniuH6vGv525NUklmTVeNUM1Kf+zk6PkZ4b/FzdJwkmZnkB0mubfr8fc38HZNckWRVknObG6iMvj1PZRlekv2A+4HPVtWCZt6LgXcBr6iqXyXZuqrumMw6p5Jh+vwbwMlV9bUkLwf+qqr2n8Qyp5QkzwCeUVVXJdkCWAH8AXAkcHdVfSjJ8cBTq+odk1jqlDFCn8+hc1erR5J8GMA+74/h+ryqbkgyF/hnYBfgd6vK+z33wQjH+e/g5+i4GKHPP4qfo+MiSYDNqur+JDOAy4C3Am8DvlxV5yT5JHBtVX1itO05Yj6Cqvo2nbvMdHsT8KGq+lXTxjeTPhqmzwt4cvN4S+C2CS1qiquq26vqqubxL4Ab6fya7xLgM02zz9B5c1cfDNfnVfWN5teTAS6nE9TVByMc5wAnA39F571GfTJCn/s5Ok5G6HM/R8dJddzfTM5o/hXwEuD8Zn7Pn6EG87HbGXhh8/XEvyV57mQXNA38OXBSkluA/wu8c5LrmbKS7ADsCVwB/E5V3d4s+k86o1zqs0F93u0o4GsTXc900N3nSZYAt1bVtZNa1BQ36Dj3c3QCDOpzP0fHUZKNk1wD3AFcDPwHcG/XQMta/mcgYEQG87HbBHgasA9wHHBe8zWGxs+bgL+oqrnAX9C5b776LMnmwJeAP6+q/+pe1vxgmKOJfTZcnyd5F/AIcPZk1TZVdfc5nT7+a+DdI66kDTLEce7n6Dgbos/9HB1HVfXrqlpI51vORXROi1svBvOxW0vnnKGqqh8AjwJeLDS+Xgt8uXn8RToHvfqoOS/uS8DZVbWur3/WnK+47rxFv27uo2H6nCRHAq8EDvMXlPtriD5/FrAjcG2SNXQ+VK9K8vTJq3JqGeY493N0HA3T536OToCquhe4FHge8JQk634vaA5way/bMJiP3QXAiwGS7AxsCnih0Pi6DXhR8/glwI8nsZYppxmpOh24sao+0rVoKZ03c5r//stE1zZVDdfnSQ6kc67zQVX1wGTVNxUN1edV9cOq2rqqdqiqHegExr2q6j8nsdQpY4T3Fj9Hx8kIfe7n6DhJMnvdHbSSPBH4PTrn9l8KHNw06/kz1LuyjCDJF4D96fwl/zPgPcDngDOAhcBDwF9W1Tcnq8apZpg+vwn4GJ2vPx8E3lxVKyarxqkmyQuA7wA/pDNyBZ2v968AzgO2A24GXlNVgy/M1XoYoc8/DjwBuKuZd3lVvXHiK5x6huvz5pet17VZAwx4V5b+GOE4/1f8HB0XI/T5f+Hn6LhI8hw6F3duTGfA+7yqOjHJM4Fz6Jy2dTVw+LoLnkfcnsFckiRJmnyeyiJJkiS1gMFckiRJagGDuSRJktQCBnNJkiSpBQzmkiRJUgsYzCVJkqQWMJhLkiRJLWAwlyT9liT3T3YNkjTdGMwlSZKkFjCYS1KLJDk4yeVJrk1yWZLZzfxdk3w7yXVJjkuyqpm/Y5J/SbI8yQ+SPHuIbX4oyZ91Tb83yV8muSDJiiQrkxwzxHo7JLm+a/ovk7y3a/rwZp/XJPlUko373B2SNK0YzCWpXS6tqn2qag/gYuA1STYBzgbeWlXPAZ4JXJ9kBvDPwNuqagB4L3D8ENs8F3hN1/RrmnlHVdXvAgPA/5dkq16LTLIr8MfAvlW1EPg1cNjYnqokqdsmk12AJOkxjkzyx8ATgKcDfw28Cri2qq5u2twA3AH8AbAb8KUk0Hk7V5ErAAAPhUlEQVRP/87gDVbV1Um2TrINMBu4p6puaUbO/7BpNheYB9zVY50HAL8LXNns+4lNTZKk9TRqME9yBvBK4I6qWjDE8gAfA14OPAAcWVVX9btQSZrqkhwBLAJeUlX3J/k2sJLOe/A1XU0XAF+nE4zfVVWn97D5LwIH0wn75ybZH3gp8LyqeiDJt4CZg9Z5hMd+s9q9PMBnquqdPT49SdIoejmV5UzgwBGWL6YzyjIPOAb4xIaXJUnT0u7A95pQ/mrg+cAP6Yxi7wyQZCFwOHAtcDvwv5Js1CzbvRksGcq5wCF0wvkXgS3pjJw/kGQXYJ8h1vkZsHWSrZI8gc4fCOtcAhycZOtm309Lsv0GPHdJmvZGDeZV9W3g7hGaLAE+Wx2XA09J8ox+FShJ08iZwJuT/ADYE1hdVb8EPgcMJPkhcDSwpqpWA2fQeR+/Mck1wDuqqobacFWtBLYAbq2q2+mMuG+S5EbgQ8DlQ6zzMHAi8AM657v/e9eyG4ATgG8kua5Z7nu/JG2ADPMe/thGyQ7AhcOcynIh8KGquqyZvoTOh8Py/pYqSdNTks2r6v7m8XHAllV1wiSXJUnqswkN5s3tuI4B2GyzzX53l1122aDiJUmSpLZZsWLFz6tq9ljX68ddWW6lczX/OnOaeb+lqk4DTgMYGBio5csdVJckSdLUkuTm9VmvH/cxXwockY59gPua8xclSZIk9aiX2yV+AdgfmJVkLfAeYAZAVX0SWEbnVomr6Nwu8U/Hq1hJkiRpqho1mFfVoaMsL+DPRmojSZIkaWT9OJVFkiRJ0gYymEuSJEktYDCXJEmSWsBgLkmSJLWAwVySJElqAYO5JEmS1AIGc0mSJKkFDOaSJElSCxjMJUmSpBYwmEuSJEktYDCXJEmSWsBgLkmSJLWAwVySJElqAYO5JEmS1AIGc0mSJKkFDOaSJElSCxjMJUmSpBYwmEuSJEktYDCXJEmSWsBgLkmSJLWAwVySJElqAYO5JEmS1AIGc0mSJKkFegrmSQ5MclOSVUmOH2L5dkkuTXJ1kuuSvLz/pUqSJElT16jBPMnGwCnAYmA+cGiS+YOanQCcV1V7AocAp/a7UEmSJGkq62XEfBGwqqpWV9VDwDnAkkFtCnhy83hL4Lb+lShJkiRNfZv00GZb4Jau6bXA3oPavBf4RpK3AJsBL+1LdZIkSdI00a+LPw8FzqyqOcDLgc8l+a1tJzkmyfIky++8884+7VqSJEl6/OslmN8KzO2antPM63Y0cB5AVX0fmAnMGryhqjqtqgaqamD27NnrV7EkSZI0BfUSzK8E5iXZMcmmdC7uXDqozU+BAwCS7EonmDskLkmSJPVo1GBeVY8AxwIXATfSufvKyiQnJjmoafZ24PVJrgW+ABxZVTVeRUuSJElTTS8Xf1JVy4Blg+a9u+vxDcC+/S1NkiRJmj785U9JkiSpBQzmkiRJUgsYzCVJkqQWMJhLkiRJLWAwlyRJklrAYC5JkiS1gMFckiRJagGDuSRJktQCBnNJkiSpBQzmkiRJUgsYzCVJkqQWMJhLkiRJLWAwlyRJklrAYC5JkiS1gMFckiRJagGDuSRJktQCBnNJkiSpBQzmkiRJUgsYzCVJkqQWMJhLkiRJLWAwlyRJklrAYC5JkiS1gMFckiRJaoGegnmSA5PclGRVkuOHafOaJDckWZnk8/0tU5IkSZraNhmtQZKNgVOA3wPWAlcmWVpVN3S1mQe8E9i3qu5JsvV4FSxJkiRNRb2MmC8CVlXV6qp6CDgHWDKozeuBU6rqHoCquqO/ZUqSJElTWy/BfFvglq7ptc28bjsDOyf5bpLLkxzYrwIlSZKk6WDUU1nGsJ15wP7AHODbSXavqnu7GyU5BjgGYLvttuvTriVJkqTHv15GzG8F5nZNz2nmdVsLLK2qh6vqJ8CP6AT1x6iq06pqoKoGZs+evb41S5IkSVNOL8H8SmBekh2TbAocAiwd1OYCOqPlJJlF59SW1X2sU5IkSZrSRg3mVfUIcCxwEXAjcF5VrUxyYpKDmmYXAXcluQG4FDiuqu4ar6IlSZKkqSZVNSk7HhgYqOXLl0/KviVJkqTxkmRFVQ2MdT1/+VOSJElqAYO5JEmS1AIGc0mSJKkFDOaSJElSCxjMJUmSpBYwmEuSJEktYDCXJEmSWsBgLkmSJLWAwVySJElqAYO5JEmS1AIGc0mSJKkFDOaSJElSCxjMJUmSpBYwmEuSJEktYDCXJEmSWsBgLkmSJLWAwVySJElqAYO5JEmS1AIGc0mSJKkFDOaSJElSCxjMJUmSpBYwmEuSJEktYDCXJEmSWqCnYJ7kwCQ3JVmV5PgR2r06SSUZ6F+JkiRJ0tQ3ajBPsjFwCrAYmA8cmmT+EO22AN4KXNHvIiVJkqSprpcR80XAqqpaXVUPAecAS4Zo9zfAh4EH+1ifJEmSNC30Esy3BW7pml7bzPuNJHsBc6vqq32sTZIkSZo2NvjizyQbAR8B3t5D22OSLE+y/M4779zQXUuSJElTRi/B/FZgbtf0nGbeOlsAC4BvJVkD7AMsHeoC0Ko6raoGqmpg9uzZ61+1JEmSNMX0EsyvBOYl2THJpsAhwNJ1C6vqvqqaVVU7VNUOwOXAQVW1fFwqliRJkqagUYN5VT0CHAtcBNwInFdVK5OcmOSg8S5QkiRJmg426aVRVS0Dlg2a9+5h2u6/4WVJkiRJ04u//ClJkiS1gMFckiRJagGDuSRJktQCBnNJkiSpBQzmkiRJUgsYzCVJkqQWMJhLkiRJLWAwlyRJklrAYC5JkiS1gMFckiRJagGDuSRJktQCBnNJkiSpBQzmkiRJUgsYzCVJkqQWMJhLkiRJLWAwlyRJklrAYC5JkiS1gMFckiRJagGDuSRJktQCBnNJkiSpBQzmkiRJUgsYzCVJkqQWMJhLkiRJLdBTME9yYJKbkqxKcvwQy9+W5IYk1yW5JMn2/S9VkiRJmrpGDeZJNgZOARYD84FDk8wf1OxqYKCqngOcD/xdvwuVJEmSprJeRswXAauqanVVPQScAyzpblBVl1bVA83k5cCc/pYpSZIkTW29BPNtgVu6ptc284ZzNPC1DSlKkiRJmm426efGkhwODAAvGmb5McAxANttt10/dy1JkiQ9rvUyYn4rMLdrek4z7zGSvBR4F3BQVf1qqA1V1WlVNVBVA7Nnz16feiVJkqQpqZdgfiUwL8mOSTYFDgGWdjdIsifwKTqh/I7+lylJkiRNbaMG86p6BDgWuAi4ETivqlYmOTHJQU2zk4DNgS8muSbJ0mE2J0mSJGkIPZ1jXlXLgGWD5r276/FL+1yXJEmSNK34y5+SJElSCxjMJUmSpBYwmEuSJEktYDCXJEmSWsBgLkmSJLWAwVySJElqAYO5JEmS1AIGc0mSJKkFDOaSJElSCxjMJUmSpBYwmEuSJEktYDCXJEmSWsBgLkmSJLWAwVySJElqAYO5JEmS1AIGc0mSJKkFDOaSJElSCxjMJUmSpBYwmEuSJEktYDCXJEmSWsBgLkmSJLWAwVySJElqAYO5JEmS1AI9BfMkBya5KcmqJMcPsfwJSc5tll+RZId+FypJkiRNZaMG8yQbA6cAi4H5wKFJ5g9qdjRwT1XtBJwMfLjfhUqSJElTWS8j5ouAVVW1uqoeAs4BlgxqswT4TPP4fOCAJOlfmZIkSdLU1ksw3xa4pWt6bTNvyDZV9QhwH7BVPwqUJEmSpoNNJnJnSY4Bjmkmf5Xk+oncvx7XZgE/n+wi9LjgsaKx8HhRrzxWNBbPXp+VegnmtwJzu6bnNPOGarM2ySbAlsBdgzdUVacBpwEkWV5VA+tTtKYfjxf1ymNFY+Hxol55rGgskixfn/V6OZXlSmBekh2TbAocAiwd1GYp8Nrm8cHAN6uq1qcgSZIkaToadcS8qh5JcixwEbAxcEZVrUxyIrC8qpYCpwOfS7IKuJtOeJckSZLUo57OMa+qZcCyQfPe3fX4QeCPxrjv08bYXtObx4t65bGisfB4Ua88VjQW63W8xDNOJEmSpMnX0y9/SpIkSRpf4x7MkxyY5KYkq5IcP8TyJyQ5t1l+RZIdxrsmtVMPx8rbktyQ5LoklyTZfjLqVDuMdrx0tXt1kkri3RSmqV6OlSSvad5fVib5/ETXqPbo4bNouySXJrm6+Tx6+WTUqcmX5Iwkdwx3++90fLw5lq5Lstdo2xzXYJ5kY+AUYDEwHzg0yfxBzY4G7qmqnYCTgQ+PZ01qpx6PlauBgap6Dp1fmP27ia1SbdHj8UKSLYC3AldMbIVqi16OlSTzgHcC+1bVbsCfT3ihaoUe31tOAM6rqj3p3Ozi1ImtUi1yJnDgCMsXA/Oaf8cAnxhtg+M9Yr4IWFVVq6vqIeAcYMmgNkuAzzSPzwcOSJJxrkvtM+qxUlWXVtUDzeTldO6pr+mpl/cWgL+h88f+gxNZnFqll2Pl9cApVXUPQFXdMcE1qj16OV4KeHLzeEvgtgmsTy1SVd+mczfC4SwBPlsdlwNPSfKMkbY53sF8W+CWrum1zbwh21TVI8B9wFbjXJfap5djpdvRwNfGtSK12ajHS/OV4dyq+upEFqbW6eW9ZWdg5yTfTXJ5kpFGwDS19XK8vBc4PMlaOnese8vElKbHobFmm95ulyi1SZLDgQHgRZNdi9opyUbAR4AjJ7kUPT5sQuer5v3pfBP37SS7V9W9k1qV2upQ4Myq+vskz6PzOy4LqurRyS5Mj3/jPWJ+KzC3a3pOM2/INkk2ofO10F3jXJfap5djhSQvBd4FHFRVv5qg2tQ+ox0vWwALgG8lWQPsAyz1AtBpqZf3lrXA0qp6uKp+AvyITlDX9NPL8XI0cB5AVX0fmAnMmpDq9HjTU7bpNt7B/EpgXpIdk2xK5yKJpYPaLAVe2zw+GPhmeXP16WjUYyXJnsCn6IRyzwGd3kY8XqrqvqqaVVU7VNUOdK5JOKiqlk9OuZpEvXwOXUBntJwks+ic2rJ6IotUa/RyvPwUOAAgya50gvmdE1qlHi+WAkc0d2fZB7ivqm4faYVxPZWlqh5JcixwEbAxcEZVrUxyIrC8qpYCp9P5GmgVnRPoDxnPmtROPR4rJwGbA19srg/+aVUdNGlFa9L0eLxIvR4rFwEvS3ID8GvguKrym9tpqMfj5e3APyX5CzoXgh7pgOL0lOQLdP6on9Vcc/AeYAZAVX2SzjUILwdWAQ8AfzrqNj2WJEmSpMnnL39KkiRJLWAwlyRJklrAYC5JkiS1gMFckiRJagGDuSRJktQCBnNJkiSpBQzmkiRJUgsYzCVJkqQW+H/yKBnzHJbKkwAAAABJRU5ErkJggg\u003d\u003d\n"
          },
          "metadata": {
            "needs_background": "light"
          },
          "output_type": "display_data"
        }
      ],
      "source": "%matplotlib inline\n\nimport pymc3 as pm\nfrom IPython.core.pylabtools import figsize\nfrom functools import reduce\nimport numpy as np\nimport matplotlib.pyplot as plt\n\n\ndef alpha(nameAgeList):\n    ageMap \u003d map(lambda args: (args[1], 1), nameAgeList)\n    addedAgeTuple \u003d reduce(lambda x, y: (x[0] + y[0], x[1] + y[1]),\n                           ageMap)  # In Python 2, the map() built-in function returns an iterator https://thepythonguru.com/python-builtin-functions/map/\n    # In Python 2, the map()  function returns a list instead of an iterator (which is not very efficient in terms of memory consumption), so we don’t need to wrap map()  in a list()  call.\n    averageAge \u003d addedAgeTuple[0] / addedAgeTuple[1]\n    return averageAge\n\n# the attacker knows that Tom is in the list\n\nwith pm.Model() as attackerModel:\n    # Priors for age model parameters\n    nameAgeList \u003d [(\"Tom\", 10)]#what the attacker has learned and Tom\u0027s age in the prior\n    #an array of 100 random vaiables with random names and ages and for one of them I want to observe\n    age \u003d pm.Normal(\u0027age\u0027, mu\u003dalpha(nameAgeList), sd\u003d20)\n\n    # the attacker knows that Tom is in the list\n    for each in nameAgeList:\n        if \"Tom\"in each:\n            print(\"found Tom\")\n            found_Tom\u003dpm.Bernoulli(\"found_Tom\",1.0, observed\u003dTrue)\n            #pm.Deterministic variable if TOm is in the list and observed it\n            #remove the variable altogether; compute deterministiclly of the array of ages and make an observation of the average age\n            pass\n        else:\n            found_Tom \u003d pm.Bernoulli(\"found_Tom\", 0.0, observed\u003dTrue)\n            # pm.Deterministic variable if TOm is in the list\n            print(\"Tom not found\")\n\n        # Expected value of outcome\n\n        # Likelihood (sampling distribution) of observations\n        step \u003d pm.Metropolis()\n        trace \u003d pm.sample(10000, tune\u003d5000, step\u003dstep)\n        age_samples \u003d trace[\u0027age\u0027]\n\n    figsize(12.5, 10)\n    # histogram of the samples:\n\n    ax \u003d plt.subplot(311)\n    ax.set_autoscaley_on(False)\n\n    plt.hist(age_samples, histtype\u003d\u0027stepfilled\u0027, bins\u003d30, alpha\u003d0.85,\n                     label\u003d\"posterior of $\\ age$\", color\u003d\"#A60628\", density\u003dTrue)\n    plt.legend(loc\u003d\"upper left\")\n    plt.title(r\"\"\"Posterior distributions of the variable\n    $\\ age$\"\"\")\n    plt.xlim([15, 30])\n    plt.xlabel(\"$\\ age$ value\")\n\n    ax \u003d plt.subplot(312)\n    ax.set_autoscaley_on(False)\n    plt.show()",
      "metadata": {
        "pycharm": {
          "metadata": false,
          "name": "#%%\n",
          "is_executing": false
        }
      }
    }
  ],
  "metadata": {
    "language_info": {
      "codemirror_mode": {
        "name": "ipython",
        "version": 2
      },
      "file_extension": ".py",
      "mimetype": "text/x-python",
      "name": "python",
      "nbconvert_exporter": "python",
      "pygments_lexer": "ipython2",
      "version": "2.7.6"
    },
    "kernelspec": {
      "name": "python3",
      "language": "python",
      "display_name": "Python 3"
    },
    "stem_cell": {
      "cell_type": "raw",
      "source": "",
      "metadata": {
        "pycharm": {
          "metadata": false
        }
      }
    }
  },
  "nbformat": 4,
  "nbformat_minor": 0
}