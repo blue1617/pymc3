{
 "cells": [
  {
   "cell_type": "markdown",
   "source": [
    "## First attacker"
   ],
   "metadata": {
    "collapsed": false,
    "pycharm": {
     "name": "#%% md\n"
    }
   }
  },
  {
   "cell_type": "code",
   "execution_count": 1,
   "outputs": [
    {
     "name": "stdout",
     "text": [
      "[0. 0. 0. 0. 0.]\n"
     ],
     "output_type": "stream"
    }
   ],
   "source": [
    "%matplotlib inline\n",
    "import pymc3 as pm\n",
    "import numpy as np\n",
    "\n",
    "with pm.Model() as model:\n",
    "    dist = pm.Mixture('dist', np.array([0.25, 0.75]),\n",
    "                      [pm.Uniform.dist(-0.15, -0.05), pm.Uniform.dist(0., 0.05)])\n",
    "    idx = pm.Uniform('idx', 0, 1)\n",
    "    a = pm.Uniform('a', np.array([-15, 0]), np.array([-5, 5]), shape=2)\n",
    "    b = pm.Deterministic('b', pm.math.switch(idx < 0.25, a[0], a[1]))\n",
    "    step = pm.Metropolis()\n",
    "    trace = pm.sample(1000, step)\n",
    " \n",
    " #%%"
   ],
   "metadata": {
    "collapsed": false,
    "pycharm": {
     "name": "#%%\n",
     "is_executing": false
    }
   }
  }
 ],
 "metadata": {
  "language_info": {
   "codemirror_mode": {
    "name": "ipython",
    "version": 2
   },
   "file_extension": ".py",
   "mimetype": "text/x-python",
   "name": "python",
   "nbconvert_exporter": "python",
   "pygments_lexer": "ipython2",
   "version": "2.7.6"
  },
  "kernelspec": {
   "name": "python3",
   "language": "python",
   "display_name": "Python 3"
  },
  "pycharm": {
   "stem_cell": {
    "cell_type": "raw",
    "source": [
     "% md\n",
     "# trying code"
    ],
    "metadata": {
     "collapsed": false
    }
   }
  }
 },
 "nbformat": 4,
 "nbformat_minor": 0
}