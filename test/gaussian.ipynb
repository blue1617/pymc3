{
 "cells": [
  {
   "cell_type": "markdown",
   "source": [
    "## First attacker"
   ],
   "metadata": {
    "pycharm": {
     "metadata": false
    }
   }
  },
  {
   "cell_type": "code",
   "execution_count": 3,
   "outputs": [
    {
     "name": "stderr",
     "text": [
      "Auto-assigning NUTS sampler...\n",
      "Initializing NUTS using jitter+adapt_diag...\n",
      "Multiprocess sampling (2 chains in 2 jobs)\n",
      "NUTS: [σ, μ]\n",
      "\rSampling 2 chains:   0%|          | 0/3000 [00:00<?, ?draws/s]",
      "\rSampling 2 chains:   4%|▎         | 108/3000 [00:00<00:02, 1078.75draws/s]",
      "\rSampling 2 chains:   8%|▊         | 234/3000 [00:00<00:02, 1126.55draws/s]",
      "\rSampling 2 chains:  13%|█▎        | 404/3000 [00:00<00:02, 1252.84draws/s]",
      "\rSampling 2 chains:  17%|█▋        | 519/3000 [00:00<00:02, 1216.04draws/s]",
      "\rSampling 2 chains:  21%|██        | 628/3000 [00:00<00:02, 1172.15draws/s]",
      "\rSampling 2 chains:  25%|██▍       | 738/3000 [00:00<00:01, 1148.17draws/s]",
      "\rSampling 2 chains:  28%|██▊       | 843/3000 [00:00<00:02, 1025.52draws/s]",
      "\rSampling 2 chains:  31%|███▏      | 941/3000 [00:00<00:02, 967.19draws/s] ",
      "\rSampling 2 chains:  36%|███▌      | 1070/3000 [00:00<00:01, 1045.43draws/s]",
      "\rSampling 2 chains:  40%|███▉      | 1196/3000 [00:01<00:01, 1101.13draws/s]",
      "\rSampling 2 chains:  44%|████▎     | 1307/3000 [00:01<00:01, 980.16draws/s] ",
      "\rSampling 2 chains:  47%|████▋     | 1408/3000 [00:01<00:01, 979.83draws/s]",
      "\rSampling 2 chains:  50%|█████     | 1509/3000 [00:01<00:01, 982.62draws/s]",
      "\rSampling 2 chains:  54%|█████▍    | 1614/3000 [00:01<00:01, 1000.59draws/s]",
      "\rSampling 2 chains:  58%|█████▊    | 1730/3000 [00:01<00:01, 1039.33draws/s]",
      "\rSampling 2 chains:  61%|██████▏   | 1844/3000 [00:01<00:01, 1064.24draws/s]",
      "\rSampling 2 chains:  65%|██████▌   | 1952/3000 [00:01<00:01, 1013.95draws/s]",
      "\rSampling 2 chains:  69%|██████▊   | 2059/3000 [00:01<00:00, 1023.92draws/s]",
      "\rSampling 2 chains:  72%|███████▏  | 2168/3000 [00:02<00:00, 1039.44draws/s]",
      "\rSampling 2 chains:  76%|███████▌  | 2273/3000 [00:02<00:00, 1024.77draws/s]",
      "\rSampling 2 chains:  79%|███████▉  | 2376/3000 [00:02<00:00, 983.39draws/s] ",
      "\rSampling 2 chains:  84%|████████▍ | 2515/3000 [00:02<00:00, 1076.91draws/s]",
      "\rSampling 2 chains:  88%|████████▊ | 2626/3000 [00:02<00:00, 1079.35draws/s]",
      "\rSampling 2 chains:  92%|█████████▏| 2766/3000 [00:02<00:00, 1158.60draws/s]",
      "\rSampling 2 chains:  96%|█████████▌| 2886/3000 [00:02<00:00, 1150.71draws/s]",
      "\rSampling 2 chains: 100%|██████████| 3000/3000 [00:02<00:00, 1073.24draws/s]",
      "\n"
     ],
     "output_type": "stream"
    },
    {
     "data": {
      "text/plain": "<Figure size 432x288 with 1 Axes>",
      "image/png": "[encoded data removed]"
     },
     "metadata": {
      "needs_background": "light"
     },
     "output_type": "display_data"
    }
   ],
   "source": [
    "%matplotlib inline\n",
    "import pymc3 as pm\n",
    "from functools import reduce\n",
    "import matplotlib.pyplot as plt\n",
    "import numpy as np\n",
    "import arviz as az\n",
    "\n",
    "def alpha(nameAgeList):\n",
    "    ageMap = map(lambda args: (args[1], 1), nameAgeList)\n",
    "    addedAgeTuple = reduce(lambda x, y: (x[0] + y[0], x[1] + y[1]),\n",
    "                           ageMap)  # In Python 2, the map() built-in function returns an iterator https://thepythonguru.com/python-builtin-functions/map/\n",
    "    # In Python 2, the map()  function returns a list instead of an iterator (which is not very efficient in terms of memory consumption), so we don’t need to wrap map()  in a list()  call.\n",
    "    averageAge = addedAgeTuple[0] / addedAgeTuple[1]\n",
    "    return averageAge\n",
    "\n",
    "data = np.loadtxt('../data/age_shifts.csv')\n",
    "az.plot_kde(data, rug=True)\n",
    "plt.yticks([0], alpha=0)\n",
    "plt.savefig('age_shifts.png', dpi=300)    \n",
    "with pm.Model() as model_g:\n",
    "    μ = pm.Uniform('μ', lower=40, upper=70)\n",
    "    σ = pm.HalfNormal('σ', sd=10)\n",
    "    y = pm.Normal('y', mu=μ, sd=σ, observed=data)\n",
    "    trace_g = pm.sample(1000)\n",
    "    \n",
    "    az.plot_trace(trace_g)\n",
    "    plt.savefig('B11197_02_09.png', dpi=300)\n",
    "    #%%\n",
    "    az.plot_joint(trace_g, kind='kde', fill_last=False)\n",
    "    plt.savefig('B11197_02_10.png', dpi=300)\n",
    "    #%%\n",
    "    az.summary(trace_g)\n",
    "    #%%\n",
    "    y_pred_g = pm.sample_posterior_predictive(trace_g, 100, model_g)\n",
    "    #%%\n",
    "    data_ppc = az.from_pymc3(trace=trace_g, posterior_predictive=y_pred_g)\n",
    "    ax = az.plot_ppc(data_ppc, figsize=(12, 6), mean=False)\n",
    "    ax[0].legend(fontsize=15)\n",
    "    plt.savefig('age_shifts_posterior.png', dpi=300)\n"
   ],
   "metadata": {
    "pycharm": {
     "metadata": false,
     "name": "#%%\n",
     "is_executing": false
    }
   }
  },
  {
   "cell_type": "markdown",
   "source": [
    " <img src=\"age_shifts.png\" width=\"500\">"
   ],
   "metadata": {
    "pycharm": {
     "metadata": false,
     "name": "#%% md\n"
    }
   }
  },
  {
   "cell_type": "markdown",
   "source": [
    " <img src=\"age_shifts_posterior.png\" width=\"500\">"
   ],
   "metadata": {
    "collapsed": false
   }
  },
  {
   "cell_type": "code",
   "execution_count": null,
   "outputs": [],
   "source": [
    "\n"
   ],
   "metadata": {
    "collapsed": false,
    "pycharm": {
     "name": "#%%\n"
    }
   }
  }
 ],
 "metadata": {
  "language_info": {
   "codemirror_mode": {
    "name": "ipython",
    "version": 2
   },
   "file_extension": ".py",
   "mimetype": "text/x-python",
   "name": "python",
   "nbconvert_exporter": "python",
   "pygments_lexer": "ipython2",
   "version": "2.7.6"
  },
  "kernelspec": {
   "name": "python3",
   "language": "python",
   "display_name": "Python 3"
  },
  "stem_cell": {
   "cell_type": "raw",
   "source": "",
   "metadata": {
    "pycharm": {
     "metadata": false
    }
   }
  },
  "pycharm": {
   "stem_cell": {
    "cell_type": "raw",
    "source": [
     "intre timp #%% md\n",
     "# Analysing Attacker \n",
     "\n",
     "This notebook contains the code required to conduct a Bayesian data analysis on a list of name, age tuples."
    ],
    "metadata": {
     "collapsed": false
    }
   }
  }
 },
 "nbformat": 4,
 "nbformat_minor": 0
}