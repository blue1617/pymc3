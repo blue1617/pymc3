{
 "cells": [
  {
   "cell_type": "markdown",
   "source": [
    "# Analysing Attacker \n",
    "\n",
    "This notebook contains the code required to conduct a Bayesian data analysis on a list of name, age tuples."
   ],
   "metadata": {
    "pycharm": {
     "metadata": false
    }
   }
  },
  {
   "cell_type": "markdown",
   "source": [
    "## First attacker"
   ],
   "metadata": {
    "pycharm": {
     "metadata": false
    }
   }
  },
  {
   "cell_type": "code",
   "execution_count": 1,
   "outputs": [
    {
     "name": "stdout",
     "text": [
      "Age, Is Tom?\n[[16.  1.]\n [17.  0.]\n [16.  0.]\n [16.  0.]\n [16.  0.]\n [16.  0.]]\n"
     ],
     "output_type": "stream"
    },
    {
     "traceback": [
      "\u001b[0;31m---------------------------------------------------------------------------\u001b[0m",
      "\u001b[0;31mAttributeError\u001b[0m                            Traceback (most recent call last)",
      "\u001b[0;32m<ipython-input-1-8d1b58231812>\u001b[0m in \u001b[0;36m<module>\u001b[0;34m\u001b[0m\n\u001b[1;32m     47\u001b[0m     \u001b[0malpha\u001b[0m \u001b[0;34m=\u001b[0m \u001b[0mpm\u001b[0m\u001b[0;34m.\u001b[0m\u001b[0mNormal\u001b[0m\u001b[0;34m(\u001b[0m\u001b[0;34m\"alpha\"\u001b[0m\u001b[0;34m,\u001b[0m \u001b[0mmu\u001b[0m\u001b[0;34m=\u001b[0m\u001b[0;36m17\u001b[0m\u001b[0;34m,\u001b[0m \u001b[0mtau\u001b[0m\u001b[0;34m=\u001b[0m\u001b[0;36m0.001\u001b[0m\u001b[0;34m,\u001b[0m \u001b[0mtestval\u001b[0m\u001b[0;34m=\u001b[0m\u001b[0;36m0\u001b[0m\u001b[0;34m)\u001b[0m\u001b[0;34m\u001b[0m\u001b[0;34m\u001b[0m\u001b[0m\n\u001b[1;32m     48\u001b[0m     \u001b[0;31m# constant = pm.Constant()\u001b[0m\u001b[0;34m\u001b[0m\u001b[0;34m\u001b[0m\u001b[0;34m\u001b[0m\u001b[0m\n\u001b[0;32m---> 49\u001b[0;31m     \u001b[0mexample\u001b[0m \u001b[0;34m=\u001b[0m \u001b[0mpm\u001b[0m\u001b[0;34m.\u001b[0m\u001b[0mrdiscrete_uniform\u001b[0m\u001b[0;34m(\u001b[0m\u001b[0;36m0\u001b[0m\u001b[0;34m,\u001b[0m\u001b[0;36m80\u001b[0m\u001b[0;34m)\u001b[0m\u001b[0;34m\u001b[0m\u001b[0;34m\u001b[0m\u001b[0m\n\u001b[0m\u001b[1;32m     50\u001b[0m     \u001b[0mprint\u001b[0m\u001b[0;34m(\u001b[0m\u001b[0;34m\"example\"\u001b[0m \u001b[0;34m+\u001b[0m \u001b[0mexample\u001b[0m\u001b[0;34m)\u001b[0m\u001b[0;34m\u001b[0m\u001b[0;34m\u001b[0m\u001b[0m\n\u001b[1;32m     51\u001b[0m \u001b[0;34m\u001b[0m\u001b[0m\n",
      "\u001b[0;31mAttributeError\u001b[0m: module 'pymc3' has no attribute 'rdiscrete_uniform'"
     ],
     "ename": "AttributeError",
     "evalue": "module 'pymc3' has no attribute 'rdiscrete_uniform'",
     "output_type": "error"
    },
    {
     "data": {
      "text/plain": "<Figure size 900x252 with 1 Axes>",
      "image/png": "[encoded data removed]"
     },
     "metadata": {
      "needs_background": "light"
     },
     "output_type": "display_data"
    }
   ],
   "source": [
    "%matplotlib inline\n",
    "import pymc3 as pm\n",
    "from functools import reduce\n",
    "import matplotlib.pyplot as plt\n",
    "import numpy as np\n",
    "import theano.tensor as tt\n",
    "from IPython.core.pylabtools import figsize\n",
    "from scipy.stats.mstats import mquantiles\n",
    "\n",
    "def alpha(nameAgeList):\n",
    "    ageMap = map(lambda args: (args[1], 1), nameAgeList)\n",
    "    addedAgeTuple = reduce(lambda x, y: (x[0] + y[0], x[1] + y[1]),\n",
    "                           ageMap)  # In Python 2, the map() built-in function returns an iterator https://thepythonguru.com/python-builtin-functions/map/\n",
    "    # In Python 2, the map()  function returns a list instead of an iterator (which is not very efficient in terms of memory consumption), so we don’t need to wrap map()  in a list()  call.\n",
    "    averageAge = addedAgeTuple[0] / addedAgeTuple[1]\n",
    "    return averageAge\n",
    "\n",
    "# the attacker knows that Tom n`is in the list\n",
    "\n",
    "figsize(12.5, 3.5)\n",
    "np.set_printoptions(precision=3, suppress=True)\n",
    "age_data = np.genfromtxt(\"../data/name_age_data.csv\", skip_header=1,\n",
    "                                usecols=[1, 2], missing_values=\"NA\",\n",
    "                                delimiter=\",\")\n",
    "#drop the NA values\n",
    "age_data = age_data[~np.isnan(age_data[:, 1])]\n",
    "\n",
    "#plot it, as a function of age (the first column)\n",
    "print(\"Age, Is Tom?\")\n",
    "print(age_data)\n",
    "\n",
    "plt.scatter(age_data[:, 0], age_data[:, 1], s=17, color=\"k\",\n",
    "            alpha=0.5)\n",
    "plt.yticks([0, 1])\n",
    "plt.ylabel(\"Is Tom?\")\n",
    "plt.xlabel(\"Age\")\n",
    "plt.title(\"Age vs is tom\")\n",
    "\n",
    "def logistic(x, beta, alpha=0):\n",
    "    return 1.0 / (1.0 + np.exp(np.dot(beta, x) + alpha))\n",
    "\n",
    "age = age_data[:, 0]\n",
    "D = age_data[:, 1]  # is_tom or not?\n",
    "\n",
    "with pm.Model() as model:\n",
    "    beta = pm.Normal(\"beta\", mu=16, tau=0.001, testval=0)\n",
    "    alpha = pm.Normal(\"alpha\", mu=17, tau=0.001, testval=0)\n",
    "    # constant = pm.Constant()\n",
    "    example = pm.rdiscrete_uniform(0,80)\n",
    "    print(\"example\" + example)\n",
    "    \n",
    "    p = pm.Deterministic(\"p\", 1.0/(1. + tt.exp(beta*age + alpha)))\n",
    "    observed = pm.Bernoulli(\"bernoulli_obs\", p, observed=D)\n",
    "    \n",
    "    # Mysterious code to be explained in Chapter 3\n",
    "    start = pm.sample()\n",
    "    step = pm.Metropolis()\n",
    "    trace = pm.sample(120000, step=step, start=start)\n",
    "    burned_trace = trace[100000::2]\n",
    "    \n",
    "    alpha_samples = burned_trace[\"alpha\"][:, None]  # best to make them 1d\n",
    "    beta_samples = burned_trace[\"beta\"][:, None]\n",
    "    \n",
    "    figsize(12.5, 6)\n",
    "    \n",
    "    #histogram of the samples:\n",
    "    plt.subplot(211)\n",
    "    plt.title(r\"Posterior distributions of the variables $\\alpha, \\beta$\")\n",
    "    plt.hist(beta_samples, histtype='stepfilled', bins=35, alpha=0.85,\n",
    "             label=r\"posterior of $\\beta$\", color=\"#7A68A6\", normed=True)\n",
    "    plt.legend()\n",
    "    \n",
    "    plt.subplot(212)\n",
    "    plt.hist(alpha_samples, histtype='stepfilled', bins=35, alpha=0.85,\n",
    "             label=r\"posterior of $\\alpha$\", color=\"#A60628\", normed=True)\n",
    "    plt.legend()\n",
    "    \n",
    "    \n",
    "    t = np.linspace(age.min() - 5, age.max()+5, 50)[:, None]\n",
    "    p_t = logistic(t.T, beta_samples, alpha_samples)\n",
    "    \n",
    "    mean_prob_t = p_t.mean(axis=0)\n",
    "    \n",
    "    figsize(12.5, 4)\n",
    "\n",
    "    plt.plot(t, mean_prob_t, lw=3, label=\"average posterior \\nprobability \\\n",
    "    of defect\")\n",
    "    plt.plot(t, p_t[0, :], ls=\"--\", label=\"realization from posterior\")\n",
    "    plt.plot(t, p_t[-2, :], ls=\"--\", label=\"realization from posterior\")\n",
    "    plt.scatter(age, D, color=\"k\", s=50, alpha=0.5)\n",
    "    plt.title(\"Posterior expected value of probability of tom in list; \\\n",
    "    plus realizations\")\n",
    "    plt.legend(loc=\"lower left\")\n",
    "    plt.ylim(-0.1, 1.1)\n",
    "    plt.xlim(t.min(), t.max())\n",
    "    plt.ylabel(\"probability\")\n",
    "    plt.xlabel(\"age\")\n",
    "    # vectorized bottom and top 2.5% quantiles for \"confidence interval\"\n",
    "    qs = mquantiles(p_t, [0.025, 0.975], axis=0)\n",
    "    plt.fill_between(t[:, 0], *qs, alpha=0.7,\n",
    "                     color=\"#7A68A6\")\n",
    "    \n",
    "    plt.plot(t[:, 0], qs[0], label=\"95% CI\", color=\"#7A68A6\", alpha=0.7)\n",
    "    \n",
    "    plt.plot(t, mean_prob_t, lw=1, ls=\"--\", color=\"k\",\n",
    "             label=\"average posterior \\nprobability of defect\")\n",
    "    \n",
    "    plt.xlim(t.min(), t.max())\n",
    "    plt.ylim(-0.02, 1.02)\n",
    "    plt.legend(loc=\"lower left\")\n",
    "    plt.scatter(age, D, color=\"k\", s=50, alpha=0.5)\n",
    "    plt.xlabel(\"age, $age$\")\n",
    "    \n",
    "    plt.ylabel(\"probability estimate\")\n",
    "    plt.title(\"Posterior probability estimates given age. $age$\");"
   ],
   "metadata": {
    "pycharm": {
     "metadata": false,
     "name": "#%%\n",
     "is_executing": false
    }
   }
  },
  {
   "cell_type": "markdown",
   "source": [],
   "metadata": {
    "pycharm": {
     "metadata": false,
     "name": "#%% md\n"
    }
   }
  }
 ],
 "metadata": {
  "language_info": {
   "codemirror_mode": {
    "name": "ipython",
    "version": 2
   },
   "file_extension": ".py",
   "mimetype": "text/x-python",
   "name": "python",
   "nbconvert_exporter": "python",
   "pygments_lexer": "ipython2",
   "version": "2.7.6"
  },
  "kernelspec": {
   "name": "python3",
   "language": "python",
   "display_name": "Python 3"
  },
  "stem_cell": {
   "cell_type": "raw",
   "source": "",
   "metadata": {
    "pycharm": {
     "metadata": false
    }
   }
  },
  "pycharm": {
   "stem_cell": {
    "cell_type": "raw",
    "source": [],
    "metadata": {
     "collapsed": false
    }
   }
  }
 },
 "nbformat": 4,
 "nbformat_minor": 0
}